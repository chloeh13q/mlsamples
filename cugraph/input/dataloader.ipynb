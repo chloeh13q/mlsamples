{
 "cells": [
  {
   "cell_type": "code",
   "execution_count": 2,
   "id": "7baa0a51-f17a-47d2-a497-dea8ce1bc3db",
   "metadata": {
    "tags": [
     "parameters"
    ]
   },
   "outputs": [],
   "source": [
    "data_dir = './data/'\n",
    "data_url = 'https://s3.us-east-2.amazonaws.com/rapidsai-data/cugraph/benchmark/twitter-2010.csv.gz'"
   ]
  },
  {
   "cell_type": "code",
   "execution_count": 2,
   "id": "e3defd95-6c59-4530-b652-949a6a770a84",
   "metadata": {},
   "outputs": [],
   "source": [
    "import urllib.request\n",
    "import os"
   ]
  },
  {
   "cell_type": "code",
   "execution_count": null,
   "id": "0c246eb0-2235-4bdb-a11b-96e725a02c7f",
   "metadata": {},
   "outputs": [],
   "source": [
    "if not os.path.exists(data_dir):\n",
    "    os.makedirs(data_dir)\n",
    "filename = data_url.split('/')[-1]\n",
    "if not os.path.exists(data_dir + filename.rstrip('.gz')):\n",
    "    if not os.path.exists(data_dir + filename):\n",
    "        urllib.request.urlretrieve(data_url, data_dir + filename)\n",
    "    os.system(f'gunzip {data_dir + filename}')"
   ]
  },
  {
   "cell_type": "code",
   "execution_count": 3,
   "id": "1d028012-06d1-4ca0-a350-21603abe3b44",
   "metadata": {},
   "outputs": [
    {
     "name": "stdout",
     "output_type": "stream",
     "text": [
      "Stored 'data_dir' (str)\n"
     ]
    }
   ],
   "source": [
    "%store data_dir\n",
    "%store filename"
   ]
  },
  {
   "cell_type": "code",
   "execution_count": null,
   "id": "82e82363-d206-436a-b183-f7aeb816ad4d",
   "metadata": {},
   "outputs": [],
   "source": []
  }
 ],
 "metadata": {
  "kernelspec": {
   "display_name": "Python 3",
   "language": "python",
   "name": "python3"
  },
  "language_info": {
   "codemirror_mode": {
    "name": "ipython",
    "version": 3
   },
   "file_extension": ".py",
   "mimetype": "text/x-python",
   "name": "python",
   "nbconvert_exporter": "python",
   "pygments_lexer": "ipython3",
   "version": "3.7.10"
  }
 },
 "nbformat": 4,
 "nbformat_minor": 5
}
