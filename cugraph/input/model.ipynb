{
 "cells": [
  {
   "cell_type": "code",
   "execution_count": 1,
   "id": "d4a315d0-715d-4df7-9414-bc886baac3df",
   "metadata": {
    "tags": [
     "parameters"
    ]
   },
   "outputs": [],
   "source": [
    "# parameters\n",
    "alpha = 0.85\n",
    "max_iter = 100\n",
    "tol = 1.0e-5"
   ]
  },
  {
   "cell_type": "code",
   "execution_count": 2,
   "id": "e7da2455-ac3a-49bc-984a-4b74aeae47e7",
   "metadata": {
    "tags": []
   },
   "outputs": [],
   "source": [
    "%store -r data_dir\n",
    "%store -r filename\n",
    "input_data_path = (data_dir + filename).rstrip('.gz')"
   ]
  },
  {
   "cell_type": "code",
   "execution_count": 3,
   "id": "82a04aaa-df16-4012-9e6d-32247758dc34",
   "metadata": {},
   "outputs": [],
   "source": [
    "import time\n",
    "from dask.distributed import Client, wait\n",
    "import dask_cudf\n",
    "import cugraph\n",
    "from dask_cuda import LocalCUDACluster\n",
    "import cugraph.dask as dcg\n",
    "import cugraph.comms as Comms"
   ]
  },
  {
   "cell_type": "markdown",
   "id": "6232f289-a3d8-4c78-8416-4ebdc1a53122",
   "metadata": {
    "tags": []
   },
   "source": [
    "If we wish to override the default `get_chunksize()` method:\n",
    "```python\n",
    "def _get_chunksize(input_path):\n",
    "    \"\"\"\n",
    "    Calculate the appropriate chunksize for dask_cudf.read_csv\n",
    "    to get a number of partitions equal to the number of GPUs.\n",
    "    Examples\n",
    "    --------\n",
    "    >>> import dask_cugraph.pagerank as dcg\n",
    "    >>> chunksize = dcg.get_chunksize(edge_list.csv)\n",
    "    \"\"\"\n",
    "\n",
    "    import os\n",
    "    from glob import glob\n",
    "    import math\n",
    "\n",
    "    input_files = sorted(glob(str(input_path)))\n",
    "    if len(input_files) == 1:\n",
    "        size = os.path.getsize(input_files[0])\n",
    "        chunksize = math.ceil(size/get_n_workers())\n",
    "    else:\n",
    "        size = [os.path.getsize(_file) for _file in input_files]\n",
    "        chunksize = max(size)\n",
    "    return chunksize\n",
    "\n",
    "dcg.get_chunksize = _get_chunk_size\n",
    "```"
   ]
  },
  {
   "cell_type": "code",
   "execution_count": 4,
   "id": "db5b9659-c1aa-4260-a245-150373af8729",
   "metadata": {},
   "outputs": [],
   "source": [
    "cluster = LocalCUDACluster(threads_per_worker=1)\n",
    "client = Client(cluster)\n",
    "Comms.initialize(p2p=True)"
   ]
  },
  {
   "cell_type": "code",
   "execution_count": 5,
   "id": "1f56539c-9063-41ed-ab53-0e9503a769bf",
   "metadata": {},
   "outputs": [
    {
     "name": "stdout",
     "output_type": "stream",
     "text": [
      "25.131707429885864 s\n"
     ]
    }
   ],
   "source": [
    "# Helper function to set the reader chunk size to automatically get one partition per GPU  \n",
    "chunksize = dcg.get_chunksize(input_data_path)\n",
    "\n",
    "# Start timer\n",
    "t_start = time.time()\n",
    "\n",
    "# Multi-GPU CSV reader\n",
    "e_list = dask_cudf.read_csv(input_data_path, \n",
    "                            chunksize=chunksize // 2,  # need to adjust based on hardware configuration\n",
    "                            delimiter=' ', \n",
    "                            names=['src', 'dst'], \n",
    "                            dtype=['int32', 'int32'])\n",
    "\n",
    "G = cugraph.DiGraph()\n",
    "G.from_dask_cudf_edgelist(e_list, source='src', destination='dst')\n",
    "\n",
    "# Wait for the lazy reader\n",
    "tmp = wait(client.compute(e_list.to_delayed()))\n",
    "\n",
    "# Print time\n",
    "print(time.time()-t_start, \"s\")"
   ]
  },
  {
   "cell_type": "code",
   "execution_count": 6,
   "id": "c498fa22-d18d-4a74-adf8-2f4de2638a98",
   "metadata": {},
   "outputs": [
    {
     "name": "stdout",
     "output_type": "stream",
     "text": [
      "2.9101381301879883 s\n"
     ]
    }
   ],
   "source": [
    "# Start timer\n",
    "t_start = time.time()\n",
    "\n",
    "# Get the pagerank scores\n",
    "# https://github.com/rapidsai/cugraph/blob/branch-21.12/python/cugraph/cugraph/dask/link_analysis/pagerank.py\n",
    "pr_ddf = dcg.pagerank(G, alpha=alpha, max_iter=max_iter, tol=tol)\n",
    "# max_iter is dependent on chunksize\n",
    "# max_iter=20 fails to converge when chunksize is set to chunksize // 2\n",
    "# max_iter=40 fails to converge when chunksize is set to chunksize // 4\n",
    "\n",
    "# Print time\n",
    "print(time.time()-t_start, \"s\")"
   ]
  },
  {
   "cell_type": "code",
   "execution_count": 7,
   "id": "2385bf65-5831-46f4-8220-456f797d75cb",
   "metadata": {},
   "outputs": [
    {
     "name": "stdout",
     "output_type": "stream",
     "text": [
      "1.1274964809417725 s\n",
      "         pagerank    vertex\n",
      "42325    0.000536  23933989\n",
      "9532570  0.000491  23933986\n",
      "9519519  0.000391  23934048\n"
     ]
    }
   ],
   "source": [
    "# Start timer\n",
    "t_start = time.time()\n",
    "\n",
    "# Dask Data Frame to regular cuDF Data Frame \n",
    "pr_df = pr_ddf.compute()\n",
    "\n",
    "# Sort, descending order\n",
    "pr_sorted_df = pr_df.sort_values('pagerank',ascending=False)\n",
    "\n",
    "# Print time\n",
    "print(time.time()-t_start, \"s\")\n",
    "\n",
    "# Print the Top 3\n",
    "print(pr_sorted_df.head(3))"
   ]
  },
  {
   "cell_type": "code",
   "execution_count": 8,
   "id": "8d422788-8fc8-48ef-ba62-62961d538301",
   "metadata": {},
   "outputs": [],
   "source": [
    "Comms.destroy()\n",
    "client.close()\n",
    "cluster.close()"
   ]
  },
  {
   "cell_type": "code",
   "execution_count": null,
   "id": "5f95202b-d92b-496b-8512-9f90fd13045c",
   "metadata": {},
   "outputs": [],
   "source": []
  }
 ],
 "metadata": {
  "kernelspec": {
   "display_name": "Python 3",
   "language": "python",
   "name": "python3"
  },
  "language_info": {
   "codemirror_mode": {
    "name": "ipython",
    "version": 3
   },
   "file_extension": ".py",
   "mimetype": "text/x-python",
   "name": "python",
   "nbconvert_exporter": "python",
   "pygments_lexer": "ipython3",
   "version": "3.7.10"
  }
 },
 "nbformat": 4,
 "nbformat_minor": 5
}
