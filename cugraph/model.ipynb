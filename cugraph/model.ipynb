{
 "cells": [
  {
   "cell_type": "code",
   "execution_count": 1,
   "id": "d4a315d0-715d-4df7-9414-bc886baac3df",
   "metadata": {
    "tags": [
     "parameters"
    ]
   },
   "outputs": [],
   "source": [
    "# Default parameters\n",
    "chunksize = '1GB'  # adjust based on hardware configuration\n",
    "alpha = 0.85\n",
    "max_iter = 100  # the number of iterations pagerank takes to converge is dependent on chunksize\n",
    "tol = 1.0e-5"
   ]
  },
  {
   "cell_type": "code",
   "execution_count": 2,
   "id": "e7da2455-ac3a-49bc-984a-4b74aeae47e7",
   "metadata": {
    "tags": []
   },
   "outputs": [],
   "source": [
    "%store -r data_path"
   ]
  },
  {
   "cell_type": "code",
   "execution_count": 3,
   "id": "82a04aaa-df16-4012-9e6d-32247758dc34",
   "metadata": {},
   "outputs": [],
   "source": [
    "import time\n",
    "from dask.distributed import Client, wait\n",
    "import dask_cudf\n",
    "import cugraph\n",
    "from dask_cuda import LocalCUDACluster\n",
    "import cugraph.dask as dcg\n",
    "import cugraph.comms as Comms\n",
    "from dask.utils import parse_bytes"
   ]
  },
  {
   "cell_type": "code",
   "execution_count": 4,
   "id": "db5b9659-c1aa-4260-a245-150373af8729",
   "metadata": {},
   "outputs": [],
   "source": [
    "cluster = LocalCUDACluster(threads_per_worker=1)\n",
    "client = Client(cluster)\n",
    "Comms.initialize(p2p=True)"
   ]
  },
  {
   "cell_type": "code",
   "execution_count": 5,
   "id": "1f56539c-9063-41ed-ab53-0e9503a769bf",
   "metadata": {},
   "outputs": [
    {
     "name": "stdout",
     "output_type": "stream",
     "text": [
      "4.991689443588257 s\n"
     ]
    }
   ],
   "source": [
    "# Start timer\n",
    "t_start = time.time()\n",
    "\n",
    "# Multi-GPU CSV reader\n",
    "e_list = None\n",
    "chunksize = parse_bytes(chunksize)\n",
    "while e_list is None:\n",
    "    try:\n",
    "        e_list = dask_cudf.read_csv(data_path, \n",
    "                                    chunksize=chunksize,\n",
    "                                    delimiter=' ', \n",
    "                                    names=['src', 'dst'], \n",
    "                                    dtype=['int32', 'int32'])\n",
    "    except MemoryError:\n",
    "        chunksize = chunksize // 10\n",
    "\n",
    "G = cugraph.DiGraph()\n",
    "G.from_dask_cudf_edgelist(e_list, source='src', destination='dst')\n",
    "\n",
    "# Wait for the lazy reader\n",
    "tmp = wait(client.compute(e_list.to_delayed()))\n",
    "\n",
    "# Print time\n",
    "print(time.time()-t_start, \"s\")"
   ]
  },
  {
   "cell_type": "code",
   "execution_count": 6,
   "id": "c498fa22-d18d-4a74-adf8-2f4de2638a98",
   "metadata": {},
   "outputs": [
    {
     "name": "stdout",
     "output_type": "stream",
     "text": [
      "1.4094202518463135 s\n"
     ]
    }
   ],
   "source": [
    "# Start timer\n",
    "t_start = time.time()\n",
    "\n",
    "# Get the pagerank scores\n",
    "# https://github.com/rapidsai/cugraph/blob/branch-21.12/python/cugraph/cugraph/dask/link_analysis/pagerank.py\n",
    "pr_ddf = dcg.pagerank(G, alpha=alpha, max_iter=max_iter, tol=tol)\n",
    "\n",
    "# Print time\n",
    "print(time.time()-t_start, \"s\")"
   ]
  },
  {
   "cell_type": "code",
   "execution_count": 7,
   "id": "2385bf65-5831-46f4-8220-456f797d75cb",
   "metadata": {},
   "outputs": [
    {
     "name": "stdout",
     "output_type": "stream",
     "text": [
      "0.6952381134033203 s\n",
      "         pagerank   vertex\n",
      "96319    0.000112  3720356\n",
      "6674853  0.000110  2369816\n",
      "61642    0.000101  2483638\n"
     ]
    }
   ],
   "source": [
    "# Start timer\n",
    "t_start = time.time()\n",
    "\n",
    "# Dask Data Frame to regular cuDF Data Frame \n",
    "pr_df = pr_ddf.compute()\n",
    "\n",
    "# Sort, descending order\n",
    "pr_sorted_df = pr_df.sort_values('pagerank', ascending=False)\n",
    "\n",
    "# Print time\n",
    "print(time.time()-t_start, \"s\")\n",
    "\n",
    "# Print the Top 3\n",
    "print(pr_sorted_df.head(3))"
   ]
  },
  {
   "cell_type": "code",
   "execution_count": 8,
   "id": "8d422788-8fc8-48ef-ba62-62961d538301",
   "metadata": {},
   "outputs": [],
   "source": [
    "Comms.destroy()\n",
    "client.close()\n",
    "cluster.close()"
   ]
  },
  {
   "cell_type": "code",
   "execution_count": null,
   "id": "5f95202b-d92b-496b-8512-9f90fd13045c",
   "metadata": {},
   "outputs": [],
   "source": []
  }
 ],
 "metadata": {
  "kernelspec": {
   "display_name": "Python 3",
   "language": "python",
   "name": "python3"
  },
  "language_info": {
   "codemirror_mode": {
    "name": "ipython",
    "version": 3
   },
   "file_extension": ".py",
   "mimetype": "text/x-python",
   "name": "python",
   "nbconvert_exporter": "python",
   "pygments_lexer": "ipython3",
   "version": "3.7.10"
  }
 },
 "nbformat": 4,
 "nbformat_minor": 5
}
