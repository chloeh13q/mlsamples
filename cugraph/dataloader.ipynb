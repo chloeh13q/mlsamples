{
 "cells": [
  {
   "cell_type": "code",
   "execution_count": null,
   "id": "7baa0a51-f17a-47d2-a497-dea8ce1bc3db",
   "metadata": {
    "tags": [
     "parameters"
    ]
   },
   "outputs": [],
   "source": [
    "# Default parameters\n",
    "data_path = None  # override this parameter to skip data download and decompression\n",
    "data_mnt = './data/'\n",
    "data_url = 'https://s3.us-east-2.amazonaws.com/rapidsai-data/cugraph/benchmark/twitter-2010.csv.gz'"
   ]
  },
  {
   "cell_type": "code",
   "execution_count": null,
   "id": "e3defd95-6c59-4530-b652-949a6a770a84",
   "metadata": {},
   "outputs": [],
   "source": [
    "import requests\n",
    "import os\n",
    "from tqdm import tqdm\n",
    "import gzip\n",
    "import shutil"
   ]
  },
  {
   "cell_type": "code",
   "execution_count": null,
   "id": "2cac99ef-2c66-415f-8752-11712c0e9c0f",
   "metadata": {},
   "outputs": [],
   "source": [
    "# Reference: https://stackoverflow.com/questions/37573483/progress-bar-while-download-file-over-http-with-requests\n",
    "if not data_path:\n",
    "    if not os.path.exists(data_mnt):\n",
    "        os.makedirs(data_mnt)\n",
    "    filename = data_url.split('/')[-1]\n",
    "    if not os.path.exists(data_mnt + filename.rstrip('.gz')):\n",
    "        if not os.path.exists(data_mnt + filename):\n",
    "            response = requests.get(data_url, stream=True)\n",
    "            total_size_in_bytes= int(response.headers.get('content-length', 0))\n",
    "            block_size = 1024 #1 Kibibyte\n",
    "            progress_bar = tqdm(total=total_size_in_bytes, unit='iB', unit_scale=True)\n",
    "            with open(data_mnt + filename, 'wb') as file:\n",
    "                for data in response.iter_content(block_size):\n",
    "                    progress_bar.update(len(data))\n",
    "                    file.write(data)\n",
    "            progress_bar.close()\n",
    "            if total_size_in_bytes != 0 and progress_bar.n != total_size_in_bytes:\n",
    "                print('Download failed. Please try again')\n",
    "            \n",
    "        with gzip.open(data_mnt + filename, 'rb') as f_in:\n",
    "            with open(data_mnt + filename.rstrip('.gz'), 'wb') as f_out:\n",
    "                shutil.copyfileobj(f_in, f_out)\n",
    "    data_path = data_mnt + filename.rstrip('.gz')"
   ]
  },
  {
   "cell_type": "code",
   "execution_count": null,
   "id": "1d028012-06d1-4ca0-a350-21603abe3b44",
   "metadata": {},
   "outputs": [],
   "source": [
    "%store data_path"
   ]
  },
  {
   "cell_type": "code",
   "execution_count": null,
   "id": "82e82363-d206-436a-b183-f7aeb816ad4d",
   "metadata": {},
   "outputs": [],
   "source": []
  }
 ],
 "metadata": {
  "kernelspec": {
   "display_name": "Python 3",
   "language": "python",
   "name": "python3"
  },
  "language_info": {
   "codemirror_mode": {
    "name": "ipython",
    "version": 3
   },
   "file_extension": ".py",
   "mimetype": "text/x-python",
   "name": "python",
   "nbconvert_exporter": "python",
   "pygments_lexer": "ipython3",
   "version": "3.7.10"
  }
 },
 "nbformat": 4,
 "nbformat_minor": 5
}
